{
  "nbformat": 4,
  "nbformat_minor": 0,
  "metadata": {
    "colab": {
      "provenance": []
    },
    "kernelspec": {
      "name": "python3",
      "display_name": "Python 3"
    },
    "language_info": {
      "name": "python"
    }
  },
  "cells": [
    {
      "cell_type": "markdown",
      "source": [
        "1. What is Object-Oriented Programming (OOP)?  \n",
        "  - Oject oriented programming is programming paradigm that uses objects and class to sturcture code. It emphasizes encapsulation,inheritance, polymorphism and abstractions.  \n",
        "    \n",
        "2. What is a class in OOP?  \n",
        "  - A class is the blue print of creating an object. Classes allows us to bundle data and functionality together.    \n",
        "    \n",
        "3. What is an object in OOP?  \n",
        "  - An object in Object-Oriented Programming (OOP) is:\n",
        "\n",
        "A real-world entity or instance of a class that contains data (attributes) and behavior (methods)    \n",
        "\n",
        "4. What is the difference between abstraction and encapsulation?  \n",
        "  - The core difference between abstraction and encapsuation is abstraction is used to hide imlementation details and showig only essential feature to the user whereas Encapsulation hides the data by binding it within a class and restricting its direct access.  \n",
        "\n",
        "5. What are dunder methods in Python?\n",
        "  - Dunder methods are special methods in python which are defined using double under score at the start and end of the method (__add__). They are also called magic methods.  \n",
        "\n",
        "6. Explain the concept of inheritance in OOP?  \n",
        "  - Inheritance in python means the subclass or child class receiving the properties and behaviours of the parents class.  \n",
        "   It is used due to hieracrchy modelling means it estabish the relationship between the classes.  \n",
        "\n",
        "7. What is polymorphism in OOP?  \n",
        "  - Polymorphism means \"many forms\".   \n",
        "        It refers to the object which change or takes the form depending upon the methods/data.\n",
        "            for example:\n",
        "            len(\"Hello\") #here it will return the length of string.\n",
        "            len([1,2,3,4]) #here it will return the length of list.\n",
        "\n",
        "\n",
        "8. How is encapsulation achieved in Python?  \n",
        "  - Encapsulation is achieved by building data and methods within a class and restricting its access outside the class. Mainly it  is achieved by making variable private or protected.  \n",
        "\n",
        "         f class account:\n",
        "           def __init__(self,balance):\n",
        "               self.__balance= balance #priavte variable\n",
        "          def deposit(self,amount):\n",
        "              self.__balance=self.__balance+amount\n",
        "              return (f\"Your current balance after deposting the amount of Rs.{amount}, is {self.__balance} \")\n",
        "         def withdraw(self,amount):\n",
        "            if self.__balance>=amount:\n",
        "            self.__balance=self.__balance-amount\n",
        "            return (f\"Your current balance after withdrawing the amount of Rs.{amount},is {self.__balance}\")\n",
        "           else:\n",
        "              return False\n",
        "          def get_balance(self):\n",
        "            return self.__balance    \n",
        "\n",
        "9. What is a constructor in Python?  \n",
        "  - A constructor in Python is a special method used to create and initialize an object automatically when the class is instantiated.  \n",
        "            In python, the construtor is `__init__` method.\n",
        "            class Car:\n",
        "               def __init__(self, brand, model): #public variable\n",
        "                    self.brand = brand\n",
        "                    self.model = model   \n",
        "                      \n",
        "10. What are class and static methods in Python?  \n",
        "  - Class mathods are bound to class to access, modify methods and atributes associated with class. It is defined using `@classmethod` and takes `cls` as first argument.  \n",
        "             class MyClass:\n",
        "                  count = 0\n",
        "\n",
        "                 @classmethod\n",
        "                 def increment_count(cls):\n",
        "                      cls.count += 1\n",
        "                      return cls.count\n",
        "\n",
        "            print(MyClass.increment_count())  # Output: 1  \n",
        "\n",
        "11. What is method overloading in Python?  \n",
        "  - Method overloading means defining a method that can accept different numbers or types of arguments — but in Python, it’s handled using default arguments, *args, or **kwargs (not true overloading like in other languages).  \n",
        "               #using *args\n",
        "                class overload():\n",
        "                  def student(self,*args):\n",
        "                    if len(args)==0:\n",
        "                      print(\"Hello\")\n",
        "                    elif len(args)==1:\n",
        "                      print(\"My name is \",args[0])\n",
        "                    elif len(args)==2:\n",
        "                      print(f\"My name is {args[0]} and course is {args[1]}\")     \n",
        "          obj=overload()\n",
        "          obj.student(\"ashu\",\"Data science\")         \n",
        "            \n",
        "12. What is method overriding in OOP?  \n",
        "  -Method overriding is when a child class defines a method with the same name as a method in its parent class, replacing the parent’s version.  \n",
        "\n",
        "13. What is a property decorator in Python?  \n",
        "  - The `@property` decorator turns a method into a read-only attribute, allowing you to access it like a variable.  \n",
        "          v class Circle:\n",
        "              def __init__(self, radius):\n",
        "                self._radius = radius\n",
        "\n",
        "           @property\n",
        "            def area(self):\n",
        "              return 3.14 * self._radius ** 2\n",
        "\n",
        "          c = Circle(5)\n",
        "          print(c.area)  # Accessed like an attribute, not method.  \n",
        "            \n",
        "14. Why is polymorphism important in OOP?  \n",
        "  - Polmorphism is important because Polymorphism allows objects of different classes to be treated through a common interface, making code more flexible, reusable, and maintainable.  \n",
        "\n",
        "15. What is an abstract class in Python?  \n",
        "  - An abstract class is a class that cannot be instantiated and is meant to be inherited, containing at least one abstract method (declared but not implemented).  \n",
        "\n",
        "16. What are the advantages of OOP?  \n",
        "  -  Advantages of Object-Oriented Programming (OOP):  \n",
        "  \n",
        "Modularity – Code is organized into classes, making it easier to manage.\n",
        "\n",
        "Reusability – Inheritance lets you reuse existing code in new classes.\n",
        "\n",
        "Scalability – Easier to extend and build larger systems.\n",
        "\n",
        "Maintainability – Clean structure makes debugging and updates simpler.\n",
        "\n",
        "Encapsulation – Protects data by keeping it hidden and controlled.\n",
        "\n",
        "Polymorphism – Enables flexible code using a common interface.\n",
        "\n",
        "Abstraction – Hides internal details and shows only necessary parts.\n",
        "\n",
        "Real-world modeling – Mimics real-world objects, making code more intuitive.        \n",
        "\n",
        "17. What is the difference between a class variable and an instance variable?  \n",
        "  - A class variable is defined at class level whereas the instance variable is defined inside `__init__` using self.  \n",
        "   Class variable beongs to class itself and is shared by all objects where as instance variable beongs to specific object.  \n",
        "          class Student:\n",
        "            school_name = \"ABC School\"   # Class variable\n",
        "\n",
        "            def __init__(self, name):\n",
        "              self.name = name         # Instance variable\n",
        "\n",
        "          s1 = Student(\"Ashu\")\n",
        "          s2 = Student(\"Riya\")\n",
        "\n",
        "          print(s1.school_name)  # Output: ABC School (shared)\n",
        "          print(s1.name)         # Output: Ashu (individual)  \n",
        "            \n",
        "\n",
        "18. What is multiple inheritance in Python?      \n",
        "  - Multiple inheritance allows a class to inherit from more than one parent class, gaining access to their properties and methods.  \n",
        "          v class Father:\n",
        "              def skill(self):\n",
        "                print(\"Driving\")\n",
        "\n",
        "            class Mother:\n",
        "              def hobby(self):\n",
        "                print(\"Painting\")\n",
        "\n",
        "            class Child(Father, Mother):\n",
        "               pass\n",
        "\n",
        "          c = Child()\n",
        "          c.skill()   # From Father\n",
        "          c.hobby()   # From Mother  \n",
        "            \n",
        "19. Explain the purpose of `__str__` and `__repr__` methods in Python?  \n",
        "  - `__str__` is used for returning a user friendly readable string while `__repr__` is used to retrun unambiguous string used for debugging.  \n",
        "\n",
        "20. What is the significance of the `super()` function in Python?  \n",
        "  - The `super()` function is used to call methods from a parent class, especially in inheritance, allowing code reuse and avoiding duplication.     \n",
        "    \n",
        "21. What is the significance of the `__del__` method in Python?  \n",
        "  - The `__del__` method is a destructor that is called automatically when an object is about to be deleted, used to perform cleanup actions like closing files or releasing resources.      \n",
        "    \n",
        "22. What is the difference between `@staticmethod` and `@classmethod` in Python?  \n",
        "  - `@staticmethod` is used for functions inside a class that don’t access class or instance data.\n",
        "\n",
        "`@classmethod` takes cls as the first argument and can access or modify class-level variables.  \n",
        "  \n",
        "23. How does polymorphism work in Python with inheritance?  \n",
        "  - Polymorphism allows a child class to override a method from the parent class, and the correct version is called based on the object.\n",
        "It enables different behaviors using the same method name when accessed through a common interface.  \n",
        "\n",
        "24. What is method chaining in Python OOP?  \n",
        "  - Method chaining is calling multiple methods sequentially on the same object in a single line, by returning self from each method.  \n",
        "           b class Person:\n",
        "              def set_name(self, name):\n",
        "                 self.name = name\n",
        "                 return self\n",
        "\n",
        "              def set_age(self, age):\n",
        "                 self.age = age\n",
        "                 return self\n",
        "\n",
        "             def show(self):\n",
        "                print(f\"{self.name} is {self.age} years old\")\n",
        "                return self\n",
        "\n",
        "          p = Person()\n",
        "          p.set_name(\"Ashu\").set_age(22).show()  \n",
        "            \n",
        "25. What is the purpose of the __call__ method in Python?  \n",
        "  - The __call__ method allows an object to be called like a function, enabling function-like behavior for class instances.            \n",
        "    \n",
        "\n",
        "           \n"
      ],
      "metadata": {
        "id": "8SNxNQQcbH9u"
      }
    },
    {
      "cell_type": "code",
      "execution_count": null,
      "metadata": {
        "colab": {
          "base_uri": "https://localhost:8080/"
        },
        "id": "7Xi7kWdyh0O2",
        "outputId": "b9bfc044-3229-45f6-aed1-3118b0b4c86c"
      },
      "outputs": [
        {
          "output_type": "stream",
          "name": "stdout",
          "text": [
            "The animal makes a sound\n",
            "Bark\n"
          ]
        }
      ],
      "source": [
        "#1. Create a parent class Animal with a method speak() that prints a generic message. Create a child class Dog that overrides the speak() method to print \"Bark!\".\n",
        "class Animal:\n",
        "  def speak(self):\n",
        "    print(\"The animal makes a sound\")\n",
        "class Dog(Animal):\n",
        "  def speak(self):\n",
        "    print(\"Bark\")\n",
        "\n",
        "\n",
        "a=Animal()\n",
        "a.speak()\n",
        "b=Dog()\n",
        "b.speak()"
      ]
    },
    {
      "cell_type": "code",
      "source": [
        "#2.Write a program to create an abstract class Shape with a method area(). Derive classes Circle and Rectangle from it and implement the area() method in both.\n",
        "\n",
        "from abc import ABC, abstractmethod\n",
        "\n",
        "# Abstract class\n",
        "class Shape(ABC):\n",
        "\n",
        "    @abstractmethod\n",
        "    def area(self):\n",
        "        pass\n",
        "\n",
        "# Derived class - Circle\n",
        "class Circle(Shape):\n",
        "    def __init__(self, radius):\n",
        "        self.radius = radius\n",
        "\n",
        "    def area(self):\n",
        "        pi = 3.14\n",
        "        return pi * self.radius * self.radius\n",
        "\n",
        "# Derived class - Rectangle\n",
        "class Rectangle(Shape):\n",
        "    def __init__(self, length, breadth):\n",
        "        self.length = length\n",
        "        self.breadth = breadth\n",
        "\n",
        "    def area(self):\n",
        "        return self.length * self.breadth\n",
        "\n",
        "# Example usage:\n",
        "circle = Circle(5)\n",
        "print(f\"Area of Circle: {circle.area()}\")\n",
        "\n",
        "rectangle = Rectangle(4, 6)\n",
        "print(f\"Area of Rectangle: {rectangle.area()}\")\n"
      ],
      "metadata": {
        "id": "D5kK6oCOjG4U",
        "colab": {
          "base_uri": "https://localhost:8080/"
        },
        "outputId": "e805dd6f-7362-45dd-ae42-830c32d6c013"
      },
      "execution_count": 1,
      "outputs": [
        {
          "output_type": "stream",
          "name": "stdout",
          "text": [
            "Area of Circle: 78.5\n",
            "Area of Rectangle: 24\n"
          ]
        }
      ]
    },
    {
      "cell_type": "code",
      "source": [
        "#3.  Implement a multi-level inheritance scenario where a class Vehicle has an attribute type. Derive a class Car and further derive a class ElectricCar that adds a battery attribute.\n",
        "\n",
        "# Base class\n",
        "class Vehicle:\n",
        "    def __init__(self, vehicle_type):\n",
        "        self.type = vehicle_type\n",
        "\n",
        "# Derived class from Vehicle\n",
        "class Car(Vehicle):\n",
        "    def __init__(self, vehicle_type, brand):\n",
        "        super().__init__(vehicle_type)\n",
        "        self.brand = brand\n",
        "\n",
        "# Derived class from Car\n",
        "class ElectricCar(Car):\n",
        "    def __init__(self, vehicle_type, brand, battery_capacity):\n",
        "        super().__init__(vehicle_type, brand)\n",
        "        self.battery = battery_capacity\n",
        "\n",
        "    def display_info(self):\n",
        "        print(f\"Type: {self.type}\")\n",
        "        print(f\"Brand: {self.brand}\")\n",
        "        print(f\"Battery Capacity: {self.battery} kWh\")\n",
        "\n",
        "# Example usage\n",
        "ecar = ElectricCar(\"Four Wheeler\", \"Tesla\", 75)\n",
        "ecar.display_info()\n"
      ],
      "metadata": {
        "colab": {
          "base_uri": "https://localhost:8080/"
        },
        "id": "iArR4xeRDmBT",
        "outputId": "7908aa22-cf82-4efd-e8c8-2fddc4a8c686"
      },
      "execution_count": 2,
      "outputs": [
        {
          "output_type": "stream",
          "name": "stdout",
          "text": [
            "Type: Four Wheeler\n",
            "Brand: Tesla\n",
            "Battery Capacity: 75 kWh\n"
          ]
        }
      ]
    },
    {
      "cell_type": "code",
      "source": [
        "#4. Demonstrate polymorphism by creating a base class Bird with a method fly(). Create two derived classes Sparrow and Penguin that override the fly() method.\n",
        "\n",
        "# Base class\n",
        "class Bird:\n",
        "    def fly(self):\n",
        "        print(\"Some birds can fly.\")\n",
        "\n",
        "# Derived class - Sparrow\n",
        "class Sparrow(Bird):\n",
        "    def fly(self):\n",
        "        print(\"Sparrow flies high in the sky.\")\n",
        "\n",
        "# Derived class - Penguin\n",
        "class Penguin(Bird):\n",
        "    def fly(self):\n",
        "        print(\"Penguins cannot fly, they swim.\")\n",
        "\n",
        "# Polymorphism in action\n",
        "def bird_flight(bird):\n",
        "    bird.fly()\n",
        "\n",
        "# Example usage\n",
        "sparrow = Sparrow()\n",
        "penguin = Penguin()\n",
        "\n",
        "bird_flight(sparrow)   # Output: Sparrow flies high in the sky.\n",
        "bird_flight(penguin)   # Output: Penguins cannot fly, they swim.\n"
      ],
      "metadata": {
        "colab": {
          "base_uri": "https://localhost:8080/"
        },
        "id": "IBnUAOFuD6lH",
        "outputId": "b419d416-3699-4730-8b17-2f34dec4393c"
      },
      "execution_count": 3,
      "outputs": [
        {
          "output_type": "stream",
          "name": "stdout",
          "text": [
            "Sparrow flies high in the sky.\n",
            "Penguins cannot fly, they swim.\n"
          ]
        }
      ]
    },
    {
      "cell_type": "code",
      "source": [
        "#5. Write a program to demonstrate encapsulation by creating a class BankAccount with private attributes balance and methods to deposit, withdraw, and check balance.\n",
        "class BankAccount:\n",
        "    def __init__(self, initial_balance):\n",
        "        self.__balance = initial_balance  # Private attribute\n",
        "\n",
        "    def deposit(self, amount):\n",
        "        if amount > 0:\n",
        "            self.__balance += amount\n",
        "            print(f\"Deposited ₹{amount}.\")\n",
        "        else:\n",
        "            print(\"Invalid deposit amount.\")\n",
        "\n",
        "    def withdraw(self, amount):\n",
        "        if 0 < amount <= self.__balance:\n",
        "            self.__balance -= amount\n",
        "            print(f\"Withdrew ₹{amount}.\")\n",
        "        else:\n",
        "            print(\"Insufficient balance or invalid amount.\")\n",
        "\n",
        "    def check_balance(self):\n",
        "        print(f\"Current Balance: ₹{self.__balance}\")\n",
        "\n",
        "# Example usage\n",
        "account = BankAccount(1000)\n",
        "account.check_balance()   # Output: ₹1000\n",
        "account.deposit(500)      # Deposit ₹500\n",
        "account.withdraw(300)     # Withdraw ₹300\n",
        "account.check_balance()   # Output: ₹1200\n"
      ],
      "metadata": {
        "colab": {
          "base_uri": "https://localhost:8080/"
        },
        "id": "b3J--LJnENvy",
        "outputId": "87c6ab4d-e0d5-4dcd-db58-6a9ffd3230b8"
      },
      "execution_count": 4,
      "outputs": [
        {
          "output_type": "stream",
          "name": "stdout",
          "text": [
            "Current Balance: ₹1000\n",
            "Deposited ₹500.\n",
            "Withdrew ₹300.\n",
            "Current Balance: ₹1200\n"
          ]
        }
      ]
    },
    {
      "cell_type": "code",
      "source": [
        "#6. Demonstrate runtime polymorphism using a method play() in a base class Instrument. Derive classes Guitar and Piano that implement their own version of play().\n",
        "# Base class\n",
        "class Instrument:\n",
        "    def play(self):\n",
        "        print(\"Playing an instrument.\")\n",
        "\n",
        "# Derived class - Guitar\n",
        "class Guitar(Instrument):\n",
        "    def play(self):\n",
        "        print(\"Strumming the guitar strings.\")\n",
        "\n",
        "# Derived class - Piano\n",
        "class Piano(Instrument):\n",
        "    def play(self):\n",
        "        print(\"Pressing the piano keys.\")\n",
        "\n",
        "# Function to demonstrate runtime polymorphism\n",
        "def perform(instrument):\n",
        "    instrument.play()\n",
        "\n",
        "# Example usage\n",
        "guitar = Guitar()\n",
        "piano = Piano()\n",
        "\n",
        "perform(guitar)   # Output: Strumming the guitar strings.\n",
        "perform(piano)    # Output: Pressing the piano keys.\n"
      ],
      "metadata": {
        "colab": {
          "base_uri": "https://localhost:8080/"
        },
        "id": "AlWyt3R-EsJA",
        "outputId": "668c2ae8-6dff-4367-e872-5436daa59492"
      },
      "execution_count": 5,
      "outputs": [
        {
          "output_type": "stream",
          "name": "stdout",
          "text": [
            "Strumming the guitar strings.\n",
            "Pressing the piano keys.\n"
          ]
        }
      ]
    },
    {
      "cell_type": "code",
      "source": [
        "#7. Create a class MathOperations with a class method add_numbers() to add two numbers and a static method subtract_numbers() to subtract two numbers.\n",
        "class MathOperations:\n",
        "\n",
        "    @classmethod\n",
        "    def add_numbers(cls, a, b):\n",
        "        return a + b\n",
        "\n",
        "    @staticmethod\n",
        "    def subtract_numbers(a, b):\n",
        "        return a - b\n",
        "\n",
        "# Example usage\n",
        "sum_result = MathOperations.add_numbers(10, 5)\n",
        "print(f\"Sum: {sum_result}\")  # Output: Sum: 15\n",
        "\n",
        "diff_result = MathOperations.subtract_numbers(10, 5)\n",
        "print(f\"Difference: {diff_result}\")  # Output: Difference: 5\n"
      ],
      "metadata": {
        "colab": {
          "base_uri": "https://localhost:8080/"
        },
        "id": "RirOaiCYE3X7",
        "outputId": "e6388d97-4160-433a-fe41-b7d8c61f3f55"
      },
      "execution_count": 6,
      "outputs": [
        {
          "output_type": "stream",
          "name": "stdout",
          "text": [
            "Sum: 15\n",
            "Difference: 5\n"
          ]
        }
      ]
    },
    {
      "cell_type": "code",
      "source": [
        "#8.  Implement a class Person with a class method to count the total number of persons created.\n",
        "\n",
        "class Person:\n",
        "    count = 0  # Class variable to keep track of instances\n",
        "\n",
        "    def __init__(self, name):\n",
        "        self.name = name\n",
        "        Person.count += 1\n",
        "\n",
        "    @classmethod\n",
        "    def total_persons(cls):\n",
        "        return cls.count\n",
        "\n",
        "# Example usage\n",
        "p1 = Person(\"Alice\")\n",
        "p2 = Person(\"Bob\")\n",
        "p3 = Person(\"Charlie\")\n",
        "\n",
        "print(f\"Total persons created: {Person.total_persons()}\")\n"
      ],
      "metadata": {
        "colab": {
          "base_uri": "https://localhost:8080/"
        },
        "id": "AqCTyAJsFEDD",
        "outputId": "a9972981-c2d8-47c7-fdaa-9d2ab6a31827"
      },
      "execution_count": 7,
      "outputs": [
        {
          "output_type": "stream",
          "name": "stdout",
          "text": [
            "Total persons created: 3\n"
          ]
        }
      ]
    },
    {
      "cell_type": "code",
      "source": [
        "#9. Write a class Fraction with attributes numerator and denominator. Override the str method to display the fraction as \"numerator/denominator\".\n",
        "class Fraction:\n",
        "    def __init__(self, numerator, denominator):\n",
        "        self.numerator = numerator\n",
        "        self.denominator = denominator\n",
        "\n",
        "    def __str__(self):\n",
        "        return f\"{self.numerator}/{self.denominator}\"\n",
        "\n",
        "# Example usage\n",
        "f1 = Fraction(3, 4)\n",
        "f2 = Fraction(5, 8)\n",
        "\n",
        "print(f1)  # Output: 3/4\n",
        "print(f2)  # Output: 5/8\n",
        "\n",
        "\n"
      ],
      "metadata": {
        "colab": {
          "base_uri": "https://localhost:8080/"
        },
        "id": "IpghbJiFFOEU",
        "outputId": "f61be821-c2b0-489a-a78f-dc3c79a5bf61"
      },
      "execution_count": 8,
      "outputs": [
        {
          "output_type": "stream",
          "name": "stdout",
          "text": [
            "3/4\n",
            "5/8\n"
          ]
        }
      ]
    },
    {
      "cell_type": "code",
      "source": [
        "#10. Demonstrate operator overloading by creating a class Vector and overriding the add method to add two vectors.\n",
        "\n",
        "class Vector:\n",
        "    def __init__(self, x, y):\n",
        "        self.x = x\n",
        "        self.y = y\n",
        "\n",
        "    # Overloading the + operator\n",
        "    def __add__(self, other):\n",
        "        return Vector(self.x + other.x, self.y + other.y)\n",
        "\n",
        "    def __str__(self):\n",
        "        return f\"Vector({self.x}, {self.y})\"\n",
        "\n",
        "# Example usage\n",
        "v1 = Vector(2, 3)\n",
        "v2 = Vector(4, 5)\n",
        "v3 = v1 + v2  # This calls v1.__add__(v2)\n",
        "\n",
        "print(v3)     # Output: Vector(6, 8)\n"
      ],
      "metadata": {
        "colab": {
          "base_uri": "https://localhost:8080/"
        },
        "id": "hJwaWgX2FbFP",
        "outputId": "b4bb38e5-c569-4c8f-8360-36d448cccfb6"
      },
      "execution_count": 9,
      "outputs": [
        {
          "output_type": "stream",
          "name": "stdout",
          "text": [
            "Vector(6, 8)\n"
          ]
        }
      ]
    },
    {
      "cell_type": "code",
      "source": [
        "#11. Create a class Person with attributes name and age. Add a method greet() that prints \"Hello, my name is {name} and I am {age} years old\"\n",
        "\n",
        "class Person:\n",
        "    def __init__(self, name, age):\n",
        "        self.name = name\n",
        "        self.age = age\n",
        "\n",
        "    def greet(self):\n",
        "        print(f\"Hello, my name is {self.name} and I am {self.age} years old.\")\n",
        "\n",
        "# Example usage\n",
        "p1 = Person(\"Ashu\", 25)\n",
        "p1.greet()\n"
      ],
      "metadata": {
        "colab": {
          "base_uri": "https://localhost:8080/"
        },
        "id": "_2meF2EvFkJ7",
        "outputId": "acf76e9f-e290-46c6-8b96-3273e98755ab"
      },
      "execution_count": 10,
      "outputs": [
        {
          "output_type": "stream",
          "name": "stdout",
          "text": [
            "Hello, my name is Ashu and I am 25 years old.\n"
          ]
        }
      ]
    },
    {
      "cell_type": "code",
      "source": [
        "#12. Implement a class Student with attributes name and grades. Create a method average_grade() to compute the average of the grades.\n",
        "\n",
        "class Student:\n",
        "    def __init__(self, name, grades):\n",
        "        self.name = name\n",
        "        self.grades = grades  # Expecting a list of numbers\n",
        "\n",
        "    def average_grade(self):\n",
        "        if not self.grades:\n",
        "            return 0\n",
        "        return sum(self.grades) / len(self.grades)\n",
        "\n",
        "# Example usage\n",
        "student1 = Student(\"Ashu\", [85, 90, 78, 92])\n",
        "print(f\"{student1.name}'s average grade is: {student1.average_grade():.2f}\")\n"
      ],
      "metadata": {
        "colab": {
          "base_uri": "https://localhost:8080/"
        },
        "id": "HAI-UnA-Fupp",
        "outputId": "a790ec14-fc12-49f9-a1fd-a021492b000c"
      },
      "execution_count": 11,
      "outputs": [
        {
          "output_type": "stream",
          "name": "stdout",
          "text": [
            "Ashu's average grade is: 86.25\n"
          ]
        }
      ]
    },
    {
      "cell_type": "code",
      "source": [
        "#13. Create a class Rectangle with methods set_dimensions() to set the dimensions and area() to calculate the area.\n",
        "\n",
        "class Rectangle:\n",
        "    def __init__(self):\n",
        "        self.length = 0\n",
        "        self.width = 0\n",
        "\n",
        "    def set_dimensions(self, length, width):\n",
        "        self.length = length\n",
        "        self.width = width\n",
        "\n",
        "    def area(self):\n",
        "        return self.length * self.width\n",
        "\n",
        "# Example usage\n",
        "rect = Rectangle()\n",
        "rect.set_dimensions(5, 4)\n",
        "print(f\"Area of the rectangle: {rect.area()}\")\n"
      ],
      "metadata": {
        "colab": {
          "base_uri": "https://localhost:8080/"
        },
        "id": "A9UTNEwWF5bf",
        "outputId": "99935ec8-cc60-4ff9-eaee-b6183fea1c73"
      },
      "execution_count": 12,
      "outputs": [
        {
          "output_type": "stream",
          "name": "stdout",
          "text": [
            "Area of the rectangle: 20\n"
          ]
        }
      ]
    },
    {
      "cell_type": "code",
      "source": [
        "#14.  Create a class Employee with a method calculate_salary() that computes the salary based on hours worked and hourly rate. Create a derived class Manager that adds a bonus to the salary.\n",
        "\n",
        "# Base class\n",
        "class Employee:\n",
        "    def __init__(self, hours_worked, hourly_rate):\n",
        "        self.hours_worked = hours_worked\n",
        "        self.hourly_rate = hourly_rate\n",
        "\n",
        "    def calculate_salary(self):\n",
        "        return self.hours_worked * self.hourly_rate\n",
        "\n",
        "# Derived class\n",
        "class Manager(Employee):\n",
        "    def __init__(self, hours_worked, hourly_rate, bonus):\n",
        "        super().__init__(hours_worked, hourly_rate)\n",
        "        self.bonus = bonus\n",
        "\n",
        "    def calculate_salary(self):\n",
        "        base_salary = super().calculate_salary()\n",
        "        return base_salary + self.bonus\n",
        "\n",
        "# Example usage\n",
        "emp = Employee(40, 200)\n",
        "print(f\"Employee Salary: ₹{emp.calculate_salary()}\")\n",
        "\n",
        "mgr = Manager(40, 200, 5000)\n",
        "print(f\"Manager Salary (with bonus): ₹{mgr.calculate_salary()}\")\n"
      ],
      "metadata": {
        "colab": {
          "base_uri": "https://localhost:8080/"
        },
        "id": "dBlJDGPJGCVb",
        "outputId": "b55314e8-001f-4934-a7dd-8f7263dce747"
      },
      "execution_count": 13,
      "outputs": [
        {
          "output_type": "stream",
          "name": "stdout",
          "text": [
            "Employee Salary: ₹8000\n",
            "Manager Salary (with bonus): ₹13000\n"
          ]
        }
      ]
    },
    {
      "cell_type": "code",
      "source": [
        "#15.  Create a class Product with attributes name, price, and quantity. Implement a method total_price() that calculates the total price of the product.\n",
        "\n",
        "class Product:\n",
        "    def __init__(self, name, price, quantity):\n",
        "        self.name = name\n",
        "        self.price = price\n",
        "        self.quantity = quantity\n",
        "\n",
        "    def total_price(self):\n",
        "        return self.price * self.quantity\n",
        "\n",
        "# Example usage\n",
        "item = Product(\"Laptop\", 50000, 2)\n",
        "print(f\"Total price for {item.name}: ₹{item.total_price()}\")\n"
      ],
      "metadata": {
        "colab": {
          "base_uri": "https://localhost:8080/"
        },
        "id": "ccwRuU5GGLGr",
        "outputId": "7e5dfdd1-903e-4c20-bd13-18733d260a7c"
      },
      "execution_count": 14,
      "outputs": [
        {
          "output_type": "stream",
          "name": "stdout",
          "text": [
            "Total price for Laptop: ₹100000\n"
          ]
        }
      ]
    },
    {
      "cell_type": "code",
      "source": [
        "#16. Create a class Animal with an abstract method sound(). Create two derived classes Cow and Sheep that implement the sound() method.\n",
        "\n",
        "from abc import ABC, abstractmethod\n",
        "\n",
        "# Abstract base class\n",
        "class Animal(ABC):\n",
        "\n",
        "    @abstractmethod\n",
        "    def sound(self):\n",
        "        pass\n",
        "\n",
        "# Derived class - Cow\n",
        "class Cow(Animal):\n",
        "    def sound(self):\n",
        "        return \"Moo\"\n",
        "\n",
        "# Derived class - Sheep\n",
        "class Sheep(Animal):\n",
        "    def sound(self):\n",
        "        return \"Baa\"\n",
        "\n",
        "# Example usage\n",
        "cow = Cow()\n",
        "sheep = Sheep()\n",
        "\n",
        "print(f\"Cow sound: {cow.sound()}\")\n",
        "print(f\"Sheep sound: {sheep.sound()}\")\n"
      ],
      "metadata": {
        "colab": {
          "base_uri": "https://localhost:8080/"
        },
        "id": "BAZpOrhpGTVU",
        "outputId": "c579d606-e03a-4ad6-e8e5-08984f9cd356"
      },
      "execution_count": 15,
      "outputs": [
        {
          "output_type": "stream",
          "name": "stdout",
          "text": [
            "Cow sound: Moo\n",
            "Sheep sound: Baa\n"
          ]
        }
      ]
    },
    {
      "cell_type": "code",
      "source": [
        "#17. Create a class Book with attributes title, author, and year_published. Add a method get_book_info() that returns a formatted string with the book's details.\n",
        "\n",
        "class Book:\n",
        "    def __init__(self, title, author, year_published):\n",
        "        self.title = title\n",
        "        self.author = author\n",
        "        self.year_published = year_published\n",
        "\n",
        "    def get_book_info(self):\n",
        "        return f\"'{self.title}' by {self.author}, published in {self.year_published}\"\n",
        "\n",
        "# Example usage\n",
        "book1 = Book(\"To Kill a Mockingbird\", \"Harper Lee\", 1960)\n",
        "print(book1.get_book_info())\n"
      ],
      "metadata": {
        "colab": {
          "base_uri": "https://localhost:8080/"
        },
        "id": "ANgXdSyCGbQu",
        "outputId": "00271cdb-a3e7-4656-801e-4839c93ada62"
      },
      "execution_count": 16,
      "outputs": [
        {
          "output_type": "stream",
          "name": "stdout",
          "text": [
            "'To Kill a Mockingbird' by Harper Lee, published in 1960\n"
          ]
        }
      ]
    },
    {
      "cell_type": "code",
      "source": [
        "#18. Create a class House with attributes address and price. Create a derived class Mansion that adds an attribute number_of_rooms.\n",
        "\n",
        "# Base class\n",
        "class House:\n",
        "    def __init__(self, address, price):\n",
        "        self.address = address\n",
        "        self.price = price\n",
        "\n",
        "# Derived class\n",
        "class Mansion(House):\n",
        "    def __init__(self, address, price, number_of_rooms):\n",
        "        super().__init__(address, price)\n",
        "        self.number_of_rooms = number_of_rooms\n",
        "\n",
        "    def show_details(self):\n",
        "        return f\"Address: {self.address}, Price: ₹{self.price}, Rooms: {self.number_of_rooms}\"\n",
        "\n",
        "# Example usage\n",
        "m = Mansion(\"123 Royal Street\", 50000000, 10)\n",
        "print(m.show_details())\n"
      ],
      "metadata": {
        "id": "49N5LWoRGkWI",
        "outputId": "f917f13a-0293-40e3-ab9c-c7c880cf6883",
        "colab": {
          "base_uri": "https://localhost:8080/"
        }
      },
      "execution_count": 17,
      "outputs": [
        {
          "output_type": "stream",
          "name": "stdout",
          "text": [
            "Address: 123 Royal Street, Price: ₹50000000, Rooms: 10\n"
          ]
        }
      ]
    },
    {
      "cell_type": "code",
      "source": [],
      "metadata": {
        "id": "gHzV8tFiGrtW"
      },
      "execution_count": null,
      "outputs": []
    }
  ]
}